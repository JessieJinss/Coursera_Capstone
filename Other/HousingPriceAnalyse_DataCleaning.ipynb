{
 "cells": [
  {
   "cell_type": "markdown",
   "metadata": {},
   "source": [
    "## Table of Contents\n",
    "\n",
    "<div class=\"alert alert-block alert-info\" style=\"margin-top: 20px\">\n",
    "\n",
    "<font size = 3>\n",
    "\n",
    "1. <a href=\"#item1\">Download and Explore Dataset</a>\n",
    "\n",
    "\n",
    "</font>\n",
    "</div>"
   ]
  },
  {
   "cell_type": "markdown",
   "metadata": {},
   "source": [
    "Before we get the data and start exploring it, let's download all the dependencies that we will need."
   ]
  },
  {
   "cell_type": "code",
   "execution_count": 1,
   "metadata": {
    "collapsed": true,
    "jupyter": {
     "outputs_hidden": true
    }
   },
   "outputs": [
    {
     "name": "stdout",
     "output_type": "stream",
     "text": [
      "Collecting package metadata (current_repodata.json): done\n",
      "Solving environment: done\n",
      "\n",
      "\n",
      "==> WARNING: A newer version of conda exists. <==\n",
      "  current version: 4.8.2\n",
      "  latest version: 4.8.3\n",
      "\n",
      "Please update conda by running\n",
      "\n",
      "    $ conda update -n base -c defaults conda\n",
      "\n",
      "\n",
      "\n",
      "## Package Plan ##\n",
      "\n",
      "  environment location: /Users/shanshanjin/opt/anaconda3\n",
      "\n",
      "  added / updated specs:\n",
      "    - geopy\n",
      "\n",
      "\n",
      "The following packages will be downloaded:\n",
      "\n",
      "    package                    |            build\n",
      "    ---------------------------|-----------------\n",
      "    conda-4.8.3                |   py37hc8dfbb8_1         3.0 MB  conda-forge\n",
      "    geographiclib-1.50         |             py_0          34 KB  conda-forge\n",
      "    geopy-2.0.0                |     pyh9f0ad1d_0          63 KB  conda-forge\n",
      "    python_abi-3.7             |          1_cp37m           4 KB  conda-forge\n",
      "    ------------------------------------------------------------\n",
      "                                           Total:         3.1 MB\n",
      "\n",
      "The following NEW packages will be INSTALLED:\n",
      "\n",
      "  geographiclib      conda-forge/noarch::geographiclib-1.50-py_0\n",
      "  geopy              conda-forge/noarch::geopy-2.0.0-pyh9f0ad1d_0\n",
      "  python_abi         conda-forge/osx-64::python_abi-3.7-1_cp37m\n",
      "\n",
      "The following packages will be UPDATED:\n",
      "\n",
      "  conda                       pkgs/main::conda-4.8.2-py37_0 --> conda-forge::conda-4.8.3-py37hc8dfbb8_1\n",
      "\n",
      "\n",
      "\n",
      "Downloading and Extracting Packages\n",
      "python_abi-3.7       | 4 KB      | ##################################### | 100% \n",
      "geopy-2.0.0          | 63 KB     | ##################################### | 100% \n",
      "conda-4.8.3          | 3.0 MB    | ##################################### | 100% \n",
      "geographiclib-1.50   | 34 KB     | ##################################### | 100% \n",
      "Preparing transaction: done\n",
      "Verifying transaction: done\n",
      "Executing transaction: done\n",
      "Collecting package metadata (current_repodata.json): done\n",
      "Solving environment: failed with initial frozen solve. Retrying with flexible solve.\n",
      "Collecting package metadata (repodata.json): done\n",
      "Solving environment: done\n",
      "\n",
      "## Package Plan ##\n",
      "\n",
      "  environment location: /Users/shanshanjin/opt/anaconda3\n",
      "\n",
      "  added / updated specs:\n",
      "    - folium=0.5.0\n",
      "\n",
      "\n",
      "The following packages will be downloaded:\n",
      "\n",
      "    package                    |            build\n",
      "    ---------------------------|-----------------\n",
      "    altair-4.1.0               |             py_1         614 KB  conda-forge\n",
      "    branca-0.4.1               |             py_0          26 KB  conda-forge\n",
      "    certifi-2019.11.28         |           py37_0         148 KB  conda-forge\n",
      "    folium-0.5.0               |             py_0          45 KB  conda-forge\n",
      "    vincent-0.4.4              |             py_1          28 KB  conda-forge\n",
      "    ------------------------------------------------------------\n",
      "                                           Total:         861 KB\n",
      "\n",
      "The following NEW packages will be INSTALLED:\n",
      "\n",
      "  altair             conda-forge/noarch::altair-4.1.0-py_1\n",
      "  branca             conda-forge/noarch::branca-0.4.1-py_0\n",
      "  folium             conda-forge/noarch::folium-0.5.0-py_0\n",
      "  vincent            conda-forge/noarch::vincent-0.4.4-py_1\n",
      "\n",
      "The following packages will be SUPERSEDED by a higher-priority channel:\n",
      "\n",
      "  certifi                                         pkgs/main --> conda-forge\n",
      "\n",
      "\n",
      "\n",
      "Downloading and Extracting Packages\n",
      "certifi-2019.11.28   | 148 KB    | ##################################### | 100% \n",
      "folium-0.5.0         | 45 KB     | ##################################### | 100% \n",
      "branca-0.4.1         | 26 KB     | ##################################### | 100% \n",
      "vincent-0.4.4        | 28 KB     | ##################################### | 100% \n",
      "altair-4.1.0         | 614 KB    | ##################################### | 100% \n",
      "Preparing transaction: done\n",
      "Verifying transaction: done\n",
      "Executing transaction: done\n",
      "Collecting package metadata (current_repodata.json): done\n",
      "Solving environment: done\n",
      "\n",
      "# All requested packages already installed.\n",
      "\n",
      "Collecting package metadata (current_repodata.json): done\n",
      "Solving environment: done\n",
      "\n",
      "# All requested packages already installed.\n",
      "\n"
     ]
    }
   ],
   "source": [
    "!conda install -c conda-forge geopy --yes # uncomment this line if you haven't completed the Foursquare API lab\n",
    "!conda install -c conda-forge folium=0.5.0 --yes # uncomment this line if you haven't completed the Foursquare API lab\n",
    "#Intall beautifulsoup4 & lxml\n",
    "!conda install -c conda-forge beautifulsoup4 --yes \n",
    "!conda install -c conda-forge lxml --yes "
   ]
  },
  {
   "cell_type": "code",
   "execution_count": 1,
   "metadata": {},
   "outputs": [
    {
     "name": "stdout",
     "output_type": "stream",
     "text": [
      "Libraries imported.\n"
     ]
    }
   ],
   "source": [
    "import numpy as np # library to handle data in a vectorized manner\n",
    "\n",
    "import pandas as pd # library for data analsysis\n",
    "pd.set_option('display.max_columns', None)\n",
    "pd.set_option('display.max_rows', None)\n",
    "\n",
    "import json # library to handle JSON files\n",
    "\n",
    "from geopy.geocoders import Nominatim # convert an address into latitude and longitude values\n",
    "\n",
    "import requests # library to handle requests\n",
    "from pandas.io.json import json_normalize # tranform JSON file into a pandas dataframe\n",
    "\n",
    "# Matplotlib and associated plotting modules\n",
    "import matplotlib.cm as cm\n",
    "import matplotlib.colors as colors\n",
    "\n",
    "# import k-means from clustering stage\n",
    "from sklearn.cluster import KMeans\n",
    "\n",
    "import folium # map rendering library\n",
    "\n",
    "print('Libraries imported.')"
   ]
  },
  {
   "cell_type": "markdown",
   "metadata": {},
   "source": [
    "<a id='item1'></a>"
   ]
  },
  {
   "cell_type": "markdown",
   "metadata": {},
   "source": [
    "## 1. Download and Explore Dataset"
   ]
  },
  {
   "cell_type": "markdown",
   "metadata": {},
   "source": [
    "**1.1 Sydney house prices of 2019**"
   ]
  },
  {
   "cell_type": "markdown",
   "metadata": {},
   "source": [
    "Read data"
   ]
  },
  {
   "cell_type": "code",
   "execution_count": 2,
   "metadata": {},
   "outputs": [],
   "source": [
    "df_hp=pd.read_csv('SydneyHousePrices.csv')"
   ]
  },
  {
   "cell_type": "code",
   "execution_count": 3,
   "metadata": {},
   "outputs": [],
   "source": [
    "df_hp['suburb']=df_hp['suburb'].str.strip()\n",
    "df_hp['Year']=df_hp['Date'].str[:4]"
   ]
  },
  {
   "cell_type": "markdown",
   "metadata": {},
   "source": [
    "Select 2019 housing price and average by suburb"
   ]
  },
  {
   "cell_type": "code",
   "execution_count": 4,
   "metadata": {},
   "outputs": [],
   "source": [
    "df_hp=df_hp[(df_hp['Year']=='2019')& (df_hp['propType']=='house' )]\n",
    "df_hp=df_hp.groupby(['suburb','postalCode'])[['sellPrice']].mean().round(2)\n",
    "df_hp.reset_index(inplace=True)\n"
   ]
  },
  {
   "cell_type": "markdown",
   "metadata": {},
   "source": [
    "Normalize SellPrice"
   ]
  },
  {
   "cell_type": "code",
   "execution_count": 5,
   "metadata": {},
   "outputs": [
    {
     "data": {
      "text/html": [
       "<div>\n",
       "<style scoped>\n",
       "    .dataframe tbody tr th:only-of-type {\n",
       "        vertical-align: middle;\n",
       "    }\n",
       "\n",
       "    .dataframe tbody tr th {\n",
       "        vertical-align: top;\n",
       "    }\n",
       "\n",
       "    .dataframe thead th {\n",
       "        text-align: right;\n",
       "    }\n",
       "</style>\n",
       "<table border=\"1\" class=\"dataframe\">\n",
       "  <thead>\n",
       "    <tr style=\"text-align: right;\">\n",
       "      <th></th>\n",
       "      <th>suburb</th>\n",
       "      <th>postalCode</th>\n",
       "      <th>sellPrice</th>\n",
       "      <th>SDPrice</th>\n",
       "    </tr>\n",
       "  </thead>\n",
       "  <tbody>\n",
       "    <tr>\n",
       "      <th>0</th>\n",
       "      <td>Abbotsbury</td>\n",
       "      <td>2176</td>\n",
       "      <td>890090.91</td>\n",
       "      <td>-0.496483</td>\n",
       "    </tr>\n",
       "    <tr>\n",
       "      <th>1</th>\n",
       "      <td>Abbotsford</td>\n",
       "      <td>2046</td>\n",
       "      <td>2490000.00</td>\n",
       "      <td>1.081061</td>\n",
       "    </tr>\n",
       "    <tr>\n",
       "      <th>2</th>\n",
       "      <td>Agnes Banks</td>\n",
       "      <td>2753</td>\n",
       "      <td>745000.00</td>\n",
       "      <td>-0.639546</td>\n",
       "    </tr>\n",
       "    <tr>\n",
       "      <th>3</th>\n",
       "      <td>Airds</td>\n",
       "      <td>2560</td>\n",
       "      <td>410461.54</td>\n",
       "      <td>-0.969408</td>\n",
       "    </tr>\n",
       "    <tr>\n",
       "      <th>4</th>\n",
       "      <td>Alexandria</td>\n",
       "      <td>2015</td>\n",
       "      <td>1446750.00</td>\n",
       "      <td>0.052395</td>\n",
       "    </tr>\n",
       "  </tbody>\n",
       "</table>\n",
       "</div>"
      ],
      "text/plain": [
       "        suburb  postalCode   sellPrice   SDPrice\n",
       "0   Abbotsbury        2176   890090.91 -0.496483\n",
       "1   Abbotsford        2046  2490000.00  1.081061\n",
       "2  Agnes Banks        2753   745000.00 -0.639546\n",
       "3        Airds        2560   410461.54 -0.969408\n",
       "4   Alexandria        2015  1446750.00  0.052395"
      ]
     },
     "execution_count": 5,
     "metadata": {},
     "output_type": "execute_result"
    }
   ],
   "source": [
    "x=df_hp[['sellPrice']].values\n",
    "normalized_x=(x-x.mean())/x.std()\n",
    "df_hp['SDPrice']= pd.DataFrame(normalized_x)\n",
    "df_hp.head()"
   ]
  },
  {
   "cell_type": "markdown",
   "metadata": {},
   "source": [
    "This step get the standarded average sellPrice for all suburbs."
   ]
  },
  {
   "cell_type": "code",
   "execution_count": 6,
   "metadata": {},
   "outputs": [
    {
     "data": {
      "text/plain": [
       "(570, 4)"
      ]
     },
     "execution_count": 6,
     "metadata": {},
     "output_type": "execute_result"
    }
   ],
   "source": [
    "df_hp.shape"
   ]
  },
  {
   "cell_type": "markdown",
   "metadata": {},
   "source": [
    "-----"
   ]
  },
  {
   "cell_type": "markdown",
   "metadata": {},
   "source": [
    "**1.2 Got OC list**"
   ]
  },
  {
   "cell_type": "code",
   "execution_count": 7,
   "metadata": {},
   "outputs": [
    {
     "data": {
      "text/html": [
       "<div>\n",
       "<style scoped>\n",
       "    .dataframe tbody tr th:only-of-type {\n",
       "        vertical-align: middle;\n",
       "    }\n",
       "\n",
       "    .dataframe tbody tr th {\n",
       "        vertical-align: top;\n",
       "    }\n",
       "\n",
       "    .dataframe thead th {\n",
       "        text-align: right;\n",
       "    }\n",
       "</style>\n",
       "<table border=\"1\" class=\"dataframe\">\n",
       "  <thead>\n",
       "    <tr style=\"text-align: right;\">\n",
       "      <th></th>\n",
       "      <th>Code</th>\n",
       "      <th>SL</th>\n",
       "    </tr>\n",
       "  </thead>\n",
       "  <tbody>\n",
       "    <tr>\n",
       "      <th>0</th>\n",
       "      <td>ACP</td>\n",
       "      <td>Armidale City Faulkner St, Armidale</td>\n",
       "    </tr>\n",
       "    <tr>\n",
       "      <th>1</th>\n",
       "      <td>ALX</td>\n",
       "      <td>Alexandria Park Park Rd, Alexandria</td>\n",
       "    </tr>\n",
       "    <tr>\n",
       "      <th>2</th>\n",
       "      <td>ALS</td>\n",
       "      <td>Alstonville Main St, Alstonville</td>\n",
       "    </tr>\n",
       "    <tr>\n",
       "      <th>3</th>\n",
       "      <td>ART</td>\n",
       "      <td>Artarmon McMillan Rd, Artarmon</td>\n",
       "    </tr>\n",
       "    <tr>\n",
       "      <th>4</th>\n",
       "      <td>AUR</td>\n",
       "      <td>Aurora Rural and remote, virtual opportunity c...</td>\n",
       "    </tr>\n",
       "  </tbody>\n",
       "</table>\n",
       "</div>"
      ],
      "text/plain": [
       "   Code                                                 SL\n",
       "0  ACP                 Armidale City Faulkner St, Armidale\n",
       "1  ALX                 Alexandria Park Park Rd, Alexandria\n",
       "2  ALS                    Alstonville Main St, Alstonville\n",
       "3  ART                      Artarmon McMillan Rd, Artarmon\n",
       "4  AUR   Aurora Rural and remote, virtual opportunity c..."
      ]
     },
     "execution_count": 7,
     "metadata": {},
     "output_type": "execute_result"
    }
   ],
   "source": [
    "from bs4 import BeautifulSoup\n",
    "import requests\n",
    "import urllib.request\n",
    "import pandas as pd\n",
    "# get table from url\n",
    "source = urllib.request.urlopen(\"https://education.nsw.gov.au/public-schools/selective-high-schools-and-opportunity-classes/year-5/what-are-opportunity-classes/list-of-opportunity-classes\").read()\n",
    "soup = BeautifulSoup(source,'lxml')\n",
    "table = soup.find('table', attrs={'id':\"table45380\"})\n",
    "\n",
    "\n",
    "table_rows = table.find_all('tr')\n",
    "\n",
    "#extract rows from table and append them into a dataframe\n",
    "l=[]\n",
    "for tr in table_rows:\n",
    "    td = tr.find_all('td')\n",
    "    row = [tr.text for tr in td] \n",
    "    l.append(row)\n",
    "df_oc=pd.DataFrame(l[1:], columns=[\"Code\", \"SL\"])\n",
    "df_oc.head()"
   ]
  },
  {
   "cell_type": "code",
   "execution_count": 8,
   "metadata": {},
   "outputs": [
    {
     "data": {
      "text/html": [
       "<div>\n",
       "<style scoped>\n",
       "    .dataframe tbody tr th:only-of-type {\n",
       "        vertical-align: middle;\n",
       "    }\n",
       "\n",
       "    .dataframe tbody tr th {\n",
       "        vertical-align: top;\n",
       "    }\n",
       "\n",
       "    .dataframe thead th {\n",
       "        text-align: right;\n",
       "    }\n",
       "</style>\n",
       "<table border=\"1\" class=\"dataframe\">\n",
       "  <thead>\n",
       "    <tr style=\"text-align: right;\">\n",
       "      <th></th>\n",
       "      <th>suburb</th>\n",
       "      <th>Code</th>\n",
       "    </tr>\n",
       "  </thead>\n",
       "  <tbody>\n",
       "    <tr>\n",
       "      <th>0</th>\n",
       "      <td>Alexandria</td>\n",
       "      <td>1</td>\n",
       "    </tr>\n",
       "    <tr>\n",
       "      <th>1</th>\n",
       "      <td>Alstonville</td>\n",
       "      <td>1</td>\n",
       "    </tr>\n",
       "    <tr>\n",
       "      <th>2</th>\n",
       "      <td>Armidale</td>\n",
       "      <td>1</td>\n",
       "    </tr>\n",
       "    <tr>\n",
       "      <th>3</th>\n",
       "      <td>Artarmon</td>\n",
       "      <td>1</td>\n",
       "    </tr>\n",
       "    <tr>\n",
       "      <th>4</th>\n",
       "      <td>Ashfield</td>\n",
       "      <td>1</td>\n",
       "    </tr>\n",
       "  </tbody>\n",
       "</table>\n",
       "</div>"
      ],
      "text/plain": [
       "        suburb  Code\n",
       "0   Alexandria     1\n",
       "1  Alstonville     1\n",
       "2     Armidale     1\n",
       "3     Artarmon     1\n",
       "4     Ashfield     1"
      ]
     },
     "execution_count": 8,
     "metadata": {},
     "output_type": "execute_result"
    }
   ],
   "source": [
    "df_oc[['School','suburb']] = df_oc['SL'].str.rsplit(',',n=1, expand=True)\n",
    "df_oc['suburb']=df_oc['suburb'].str.strip()\n",
    "df_oc=df_oc.groupby(['suburb'])[['Code']].count().reset_index()\n",
    "df_oc.head()"
   ]
  },
  {
   "cell_type": "code",
   "execution_count": 9,
   "metadata": {},
   "outputs": [
    {
     "data": {
      "text/html": [
       "<div>\n",
       "<style scoped>\n",
       "    .dataframe tbody tr th:only-of-type {\n",
       "        vertical-align: middle;\n",
       "    }\n",
       "\n",
       "    .dataframe tbody tr th {\n",
       "        vertical-align: top;\n",
       "    }\n",
       "\n",
       "    .dataframe thead th {\n",
       "        text-align: right;\n",
       "    }\n",
       "</style>\n",
       "<table border=\"1\" class=\"dataframe\">\n",
       "  <thead>\n",
       "    <tr style=\"text-align: right;\">\n",
       "      <th></th>\n",
       "      <th>suburb</th>\n",
       "      <th>postalCode</th>\n",
       "      <th>sellPrice</th>\n",
       "      <th>SDPrice</th>\n",
       "      <th>CountOfOC</th>\n",
       "    </tr>\n",
       "  </thead>\n",
       "  <tbody>\n",
       "    <tr>\n",
       "      <th>0</th>\n",
       "      <td>Abbotsbury</td>\n",
       "      <td>2176</td>\n",
       "      <td>890090.91</td>\n",
       "      <td>-0.496483</td>\n",
       "      <td>0.0</td>\n",
       "    </tr>\n",
       "    <tr>\n",
       "      <th>1</th>\n",
       "      <td>Abbotsford</td>\n",
       "      <td>2046</td>\n",
       "      <td>2490000.00</td>\n",
       "      <td>1.081061</td>\n",
       "      <td>0.0</td>\n",
       "    </tr>\n",
       "    <tr>\n",
       "      <th>2</th>\n",
       "      <td>Agnes Banks</td>\n",
       "      <td>2753</td>\n",
       "      <td>745000.00</td>\n",
       "      <td>-0.639546</td>\n",
       "      <td>0.0</td>\n",
       "    </tr>\n",
       "    <tr>\n",
       "      <th>3</th>\n",
       "      <td>Airds</td>\n",
       "      <td>2560</td>\n",
       "      <td>410461.54</td>\n",
       "      <td>-0.969408</td>\n",
       "      <td>0.0</td>\n",
       "    </tr>\n",
       "    <tr>\n",
       "      <th>4</th>\n",
       "      <td>Alexandria</td>\n",
       "      <td>2015</td>\n",
       "      <td>1446750.00</td>\n",
       "      <td>0.052395</td>\n",
       "      <td>1.0</td>\n",
       "    </tr>\n",
       "  </tbody>\n",
       "</table>\n",
       "</div>"
      ],
      "text/plain": [
       "        suburb  postalCode   sellPrice   SDPrice  CountOfOC\n",
       "0   Abbotsbury        2176   890090.91 -0.496483        0.0\n",
       "1   Abbotsford        2046  2490000.00  1.081061        0.0\n",
       "2  Agnes Banks        2753   745000.00 -0.639546        0.0\n",
       "3        Airds        2560   410461.54 -0.969408        0.0\n",
       "4   Alexandria        2015  1446750.00  0.052395        1.0"
      ]
     },
     "execution_count": 9,
     "metadata": {},
     "output_type": "execute_result"
    }
   ],
   "source": [
    "#This step add the oc school number to suburbs.\n",
    "df_hp=pd.merge(df_hp,df_oc.drop_duplicates(),on='suburb',how='left')\n",
    "df_hp.fillna(0,inplace=True)\n",
    "df_hp.rename(columns={'Code':'CountOfOC'},inplace=True)\n",
    "df_hp.head()"
   ]
  },
  {
   "cell_type": "code",
   "execution_count": 22,
   "metadata": {},
   "outputs": [
    {
     "data": {
      "text/plain": [
       "(570, 5)"
      ]
     },
     "execution_count": 22,
     "metadata": {},
     "output_type": "execute_result"
    }
   ],
   "source": [
    "df_hp.shape"
   ]
  },
  {
   "cell_type": "markdown",
   "metadata": {},
   "source": [
    "\n",
    "\n",
    "------\n",
    "\n",
    "\n",
    "**1.3 Get Geo Data**"
   ]
  },
  {
   "cell_type": "code",
   "execution_count": 10,
   "metadata": {},
   "outputs": [],
   "source": [
    "df_geo=pd.read_csv('australian_postcodes.csv')"
   ]
  },
  {
   "cell_type": "code",
   "execution_count": 11,
   "metadata": {},
   "outputs": [],
   "source": [
    "df_geo=df_geo[df_geo['state']=='NSW']"
   ]
  },
  {
   "cell_type": "code",
   "execution_count": 12,
   "metadata": {},
   "outputs": [
    {
     "data": {
      "text/html": [
       "<div>\n",
       "<style scoped>\n",
       "    .dataframe tbody tr th:only-of-type {\n",
       "        vertical-align: middle;\n",
       "    }\n",
       "\n",
       "    .dataframe tbody tr th {\n",
       "        vertical-align: top;\n",
       "    }\n",
       "\n",
       "    .dataframe thead th {\n",
       "        text-align: right;\n",
       "    }\n",
       "</style>\n",
       "<table border=\"1\" class=\"dataframe\">\n",
       "  <thead>\n",
       "    <tr style=\"text-align: right;\">\n",
       "      <th></th>\n",
       "      <th>long</th>\n",
       "      <th>lat</th>\n",
       "      <th>sa3name</th>\n",
       "      <th>suburb</th>\n",
       "    </tr>\n",
       "  </thead>\n",
       "  <tbody>\n",
       "    <tr>\n",
       "      <th>420</th>\n",
       "      <td>151.268071</td>\n",
       "      <td>-33.794883</td>\n",
       "      <td>Sydney Inner City</td>\n",
       "      <td>Sydney</td>\n",
       "    </tr>\n",
       "    <tr>\n",
       "      <th>441</th>\n",
       "      <td>150.874182</td>\n",
       "      <td>-33.662834</td>\n",
       "      <td>Sydney Inner City</td>\n",
       "      <td>Sydney</td>\n",
       "    </tr>\n",
       "    <tr>\n",
       "      <th>468</th>\n",
       "      <td>150.866145</td>\n",
       "      <td>-33.666729</td>\n",
       "      <td>Sydney Inner City</td>\n",
       "      <td>Sydney</td>\n",
       "    </tr>\n",
       "    <tr>\n",
       "      <th>469</th>\n",
       "      <td>150.870220</td>\n",
       "      <td>-33.664575</td>\n",
       "      <td>Sydney Inner City</td>\n",
       "      <td>Sydney</td>\n",
       "    </tr>\n",
       "    <tr>\n",
       "      <th>484</th>\n",
       "      <td>150.874265</td>\n",
       "      <td>-33.662790</td>\n",
       "      <td>Sydney Inner City</td>\n",
       "      <td>Sydney</td>\n",
       "    </tr>\n",
       "  </tbody>\n",
       "</table>\n",
       "</div>"
      ],
      "text/plain": [
       "           long        lat            sa3name  suburb\n",
       "420  151.268071 -33.794883  Sydney Inner City  Sydney\n",
       "441  150.874182 -33.662834  Sydney Inner City  Sydney\n",
       "468  150.866145 -33.666729  Sydney Inner City  Sydney\n",
       "469  150.870220 -33.664575  Sydney Inner City  Sydney\n",
       "484  150.874265 -33.662790  Sydney Inner City  Sydney"
      ]
     },
     "execution_count": 12,
     "metadata": {},
     "output_type": "execute_result"
    }
   ],
   "source": [
    "df_geo=df_geo[['long','lat','sa3name','locality']]\n",
    "df_geo.rename(columns={'locality':'suburb'},inplace=True)\n",
    "df_geo['suburb']=df_geo['suburb'].apply(lambda x: x.title())\n",
    "df_geo.drop_duplicates(['long','lat','suburb'],inplace=True)\n",
    "df_geo.head()"
   ]
  },
  {
   "cell_type": "markdown",
   "metadata": {},
   "source": [
    "Merge geo info to df_hp"
   ]
  },
  {
   "cell_type": "code",
   "execution_count": 13,
   "metadata": {},
   "outputs": [
    {
     "data": {
      "text/html": [
       "<div>\n",
       "<style scoped>\n",
       "    .dataframe tbody tr th:only-of-type {\n",
       "        vertical-align: middle;\n",
       "    }\n",
       "\n",
       "    .dataframe tbody tr th {\n",
       "        vertical-align: top;\n",
       "    }\n",
       "\n",
       "    .dataframe thead th {\n",
       "        text-align: right;\n",
       "    }\n",
       "</style>\n",
       "<table border=\"1\" class=\"dataframe\">\n",
       "  <thead>\n",
       "    <tr style=\"text-align: right;\">\n",
       "      <th></th>\n",
       "      <th>suburb</th>\n",
       "      <th>postalCode</th>\n",
       "      <th>sellPrice</th>\n",
       "      <th>SDPrice</th>\n",
       "      <th>CountOfOC</th>\n",
       "      <th>long</th>\n",
       "      <th>lat</th>\n",
       "      <th>sa3name</th>\n",
       "    </tr>\n",
       "  </thead>\n",
       "  <tbody>\n",
       "    <tr>\n",
       "      <th>0</th>\n",
       "      <td>Abbotsbury</td>\n",
       "      <td>2176</td>\n",
       "      <td>890090.91</td>\n",
       "      <td>-0.496483</td>\n",
       "      <td>0.0</td>\n",
       "      <td>150.885260</td>\n",
       "      <td>-33.872014</td>\n",
       "      <td>Fairfield</td>\n",
       "    </tr>\n",
       "    <tr>\n",
       "      <th>1</th>\n",
       "      <td>Abbotsford</td>\n",
       "      <td>2046</td>\n",
       "      <td>2490000.00</td>\n",
       "      <td>1.081061</td>\n",
       "      <td>0.0</td>\n",
       "      <td>151.133865</td>\n",
       "      <td>-33.866044</td>\n",
       "      <td>Strathfield - Burwood - Ashfield</td>\n",
       "    </tr>\n",
       "    <tr>\n",
       "      <th>2</th>\n",
       "      <td>Agnes Banks</td>\n",
       "      <td>2753</td>\n",
       "      <td>745000.00</td>\n",
       "      <td>-0.639546</td>\n",
       "      <td>0.0</td>\n",
       "      <td>150.646053</td>\n",
       "      <td>-33.604022</td>\n",
       "      <td>Richmond - Windsor</td>\n",
       "    </tr>\n",
       "    <tr>\n",
       "      <th>3</th>\n",
       "      <td>Airds</td>\n",
       "      <td>2560</td>\n",
       "      <td>410461.54</td>\n",
       "      <td>-0.969408</td>\n",
       "      <td>0.0</td>\n",
       "      <td>150.768408</td>\n",
       "      <td>-34.194216</td>\n",
       "      <td>Wollondilly</td>\n",
       "    </tr>\n",
       "    <tr>\n",
       "      <th>4</th>\n",
       "      <td>Alexandria</td>\n",
       "      <td>2015</td>\n",
       "      <td>1446750.00</td>\n",
       "      <td>0.052395</td>\n",
       "      <td>1.0</td>\n",
       "      <td>151.108248</td>\n",
       "      <td>-33.711785</td>\n",
       "      <td>Sydney Inner City</td>\n",
       "    </tr>\n",
       "  </tbody>\n",
       "</table>\n",
       "</div>"
      ],
      "text/plain": [
       "        suburb  postalCode   sellPrice   SDPrice  CountOfOC        long  \\\n",
       "0   Abbotsbury        2176   890090.91 -0.496483        0.0  150.885260   \n",
       "1   Abbotsford        2046  2490000.00  1.081061        0.0  151.133865   \n",
       "2  Agnes Banks        2753   745000.00 -0.639546        0.0  150.646053   \n",
       "3        Airds        2560   410461.54 -0.969408        0.0  150.768408   \n",
       "4   Alexandria        2015  1446750.00  0.052395        1.0  151.108248   \n",
       "\n",
       "         lat                           sa3name  \n",
       "0 -33.872014                         Fairfield  \n",
       "1 -33.866044  Strathfield - Burwood - Ashfield  \n",
       "2 -33.604022                Richmond - Windsor  \n",
       "3 -34.194216                       Wollondilly  \n",
       "4 -33.711785                 Sydney Inner City  "
      ]
     },
     "execution_count": 13,
     "metadata": {},
     "output_type": "execute_result"
    }
   ],
   "source": [
    "sydney_suburb=pd.merge(df_hp,df_geo,on='suburb',how='left')\n",
    "sydney_suburb.head()"
   ]
  },
  {
   "cell_type": "code",
   "execution_count": 15,
   "metadata": {},
   "outputs": [
    {
     "data": {
      "text/html": [
       "<div>\n",
       "<style scoped>\n",
       "    .dataframe tbody tr th:only-of-type {\n",
       "        vertical-align: middle;\n",
       "    }\n",
       "\n",
       "    .dataframe tbody tr th {\n",
       "        vertical-align: top;\n",
       "    }\n",
       "\n",
       "    .dataframe thead th {\n",
       "        text-align: right;\n",
       "    }\n",
       "</style>\n",
       "<table border=\"1\" class=\"dataframe\">\n",
       "  <thead>\n",
       "    <tr style=\"text-align: right;\">\n",
       "      <th></th>\n",
       "      <th>Neighborhood</th>\n",
       "      <th>postalCode</th>\n",
       "      <th>SellPrice</th>\n",
       "      <th>SDPrice</th>\n",
       "      <th>CountOfOC</th>\n",
       "      <th>Longitude</th>\n",
       "      <th>Latitude</th>\n",
       "      <th>Borough</th>\n",
       "    </tr>\n",
       "  </thead>\n",
       "  <tbody>\n",
       "    <tr>\n",
       "      <th>0</th>\n",
       "      <td>Abbotsbury</td>\n",
       "      <td>2176</td>\n",
       "      <td>890090.91</td>\n",
       "      <td>-0.496483</td>\n",
       "      <td>0.0</td>\n",
       "      <td>150.885260</td>\n",
       "      <td>-33.872014</td>\n",
       "      <td>Fairfield</td>\n",
       "    </tr>\n",
       "    <tr>\n",
       "      <th>1</th>\n",
       "      <td>Abbotsford</td>\n",
       "      <td>2046</td>\n",
       "      <td>2490000.00</td>\n",
       "      <td>1.081061</td>\n",
       "      <td>0.0</td>\n",
       "      <td>151.133865</td>\n",
       "      <td>-33.866044</td>\n",
       "      <td>Strathfield - Burwood - Ashfield</td>\n",
       "    </tr>\n",
       "    <tr>\n",
       "      <th>2</th>\n",
       "      <td>Agnes Banks</td>\n",
       "      <td>2753</td>\n",
       "      <td>745000.00</td>\n",
       "      <td>-0.639546</td>\n",
       "      <td>0.0</td>\n",
       "      <td>150.646053</td>\n",
       "      <td>-33.604022</td>\n",
       "      <td>Richmond - Windsor</td>\n",
       "    </tr>\n",
       "    <tr>\n",
       "      <th>3</th>\n",
       "      <td>Airds</td>\n",
       "      <td>2560</td>\n",
       "      <td>410461.54</td>\n",
       "      <td>-0.969408</td>\n",
       "      <td>0.0</td>\n",
       "      <td>150.768408</td>\n",
       "      <td>-34.194216</td>\n",
       "      <td>Wollondilly</td>\n",
       "    </tr>\n",
       "    <tr>\n",
       "      <th>4</th>\n",
       "      <td>Alexandria</td>\n",
       "      <td>2015</td>\n",
       "      <td>1446750.00</td>\n",
       "      <td>0.052395</td>\n",
       "      <td>1.0</td>\n",
       "      <td>151.108248</td>\n",
       "      <td>-33.711785</td>\n",
       "      <td>Sydney Inner City</td>\n",
       "    </tr>\n",
       "  </tbody>\n",
       "</table>\n",
       "</div>"
      ],
      "text/plain": [
       "  Neighborhood  postalCode   SellPrice   SDPrice  CountOfOC   Longitude  \\\n",
       "0   Abbotsbury        2176   890090.91 -0.496483        0.0  150.885260   \n",
       "1   Abbotsford        2046  2490000.00  1.081061        0.0  151.133865   \n",
       "2  Agnes Banks        2753   745000.00 -0.639546        0.0  150.646053   \n",
       "3        Airds        2560   410461.54 -0.969408        0.0  150.768408   \n",
       "4   Alexandria        2015  1446750.00  0.052395        1.0  151.108248   \n",
       "\n",
       "    Latitude                           Borough  \n",
       "0 -33.872014                         Fairfield  \n",
       "1 -33.866044  Strathfield - Burwood - Ashfield  \n",
       "2 -33.604022                Richmond - Windsor  \n",
       "3 -34.194216                       Wollondilly  \n",
       "4 -33.711785                 Sydney Inner City  "
      ]
     },
     "execution_count": 15,
     "metadata": {},
     "output_type": "execute_result"
    }
   ],
   "source": [
    "#rename columns\n",
    "sydney_suburb.rename(columns={'suburb':'Neighborhood','long':'Longitude','lat':'Latitude','sa3name':'Borough','sellPrice':'SellPrice'},inplace=True)\n",
    "sydney_suburb=sydney_suburb[sydney_suburb['Latitude']!=0]\n",
    "sydney_suburb.dropna(inplace=True)\n",
    "sydney_suburb.head()"
   ]
  },
  {
   "cell_type": "code",
   "execution_count": 37,
   "metadata": {},
   "outputs": [],
   "source": [
    "#rename columns\n",
    "# df_hp.rename(columns={'suburb':'Neighborhood','sellPrice':'SellPrice'},inplace=True)"
   ]
  },
  {
   "cell_type": "code",
   "execution_count": 36,
   "metadata": {},
   "outputs": [],
   "source": [
    "# sydney_suburb.shape"
   ]
  },
  {
   "cell_type": "code",
   "execution_count": 27,
   "metadata": {},
   "outputs": [],
   "source": [
    "# sydney_suburb[sydney_suburb['postalCode']==2121]"
   ]
  },
  {
   "cell_type": "code",
   "execution_count": 28,
   "metadata": {},
   "outputs": [],
   "source": [
    "# df_geo[df_geo['suburb']=='Epping']"
   ]
  },
  {
   "cell_type": "markdown",
   "metadata": {},
   "source": [
    "------\n",
    "\n",
    "**1.4 Finish Cleaning and Generate DF that would be used next**"
   ]
  },
  {
   "cell_type": "code",
   "execution_count": 35,
   "metadata": {},
   "outputs": [
    {
     "data": {
      "text/html": [
       "<div>\n",
       "<style scoped>\n",
       "    .dataframe tbody tr th:only-of-type {\n",
       "        vertical-align: middle;\n",
       "    }\n",
       "\n",
       "    .dataframe tbody tr th {\n",
       "        vertical-align: top;\n",
       "    }\n",
       "\n",
       "    .dataframe thead th {\n",
       "        text-align: right;\n",
       "    }\n",
       "</style>\n",
       "<table border=\"1\" class=\"dataframe\">\n",
       "  <thead>\n",
       "    <tr style=\"text-align: right;\">\n",
       "      <th></th>\n",
       "      <th>Neighborhood</th>\n",
       "      <th>postalCode</th>\n",
       "      <th>SellPrice</th>\n",
       "      <th>SDPrice</th>\n",
       "      <th>CountOfOC</th>\n",
       "      <th>Longitude</th>\n",
       "      <th>Latitude</th>\n",
       "      <th>Borough</th>\n",
       "    </tr>\n",
       "  </thead>\n",
       "  <tbody>\n",
       "    <tr>\n",
       "      <th>0</th>\n",
       "      <td>Abbotsbury</td>\n",
       "      <td>2176</td>\n",
       "      <td>890090.91</td>\n",
       "      <td>-0.496483</td>\n",
       "      <td>0.0</td>\n",
       "      <td>150.885260</td>\n",
       "      <td>-33.872014</td>\n",
       "      <td>Fairfield</td>\n",
       "    </tr>\n",
       "    <tr>\n",
       "      <th>1</th>\n",
       "      <td>Abbotsford</td>\n",
       "      <td>2046</td>\n",
       "      <td>2490000.00</td>\n",
       "      <td>1.081061</td>\n",
       "      <td>0.0</td>\n",
       "      <td>151.133865</td>\n",
       "      <td>-33.866044</td>\n",
       "      <td>Strathfield - Burwood - Ashfield</td>\n",
       "    </tr>\n",
       "    <tr>\n",
       "      <th>2</th>\n",
       "      <td>Agnes Banks</td>\n",
       "      <td>2753</td>\n",
       "      <td>745000.00</td>\n",
       "      <td>-0.639546</td>\n",
       "      <td>0.0</td>\n",
       "      <td>150.646053</td>\n",
       "      <td>-33.604022</td>\n",
       "      <td>Richmond - Windsor</td>\n",
       "    </tr>\n",
       "    <tr>\n",
       "      <th>3</th>\n",
       "      <td>Airds</td>\n",
       "      <td>2560</td>\n",
       "      <td>410461.54</td>\n",
       "      <td>-0.969408</td>\n",
       "      <td>0.0</td>\n",
       "      <td>150.768408</td>\n",
       "      <td>-34.194216</td>\n",
       "      <td>Wollondilly</td>\n",
       "    </tr>\n",
       "    <tr>\n",
       "      <th>4</th>\n",
       "      <td>Alexandria</td>\n",
       "      <td>2015</td>\n",
       "      <td>1446750.00</td>\n",
       "      <td>0.052395</td>\n",
       "      <td>1.0</td>\n",
       "      <td>151.108248</td>\n",
       "      <td>-33.711785</td>\n",
       "      <td>Sydney Inner City</td>\n",
       "    </tr>\n",
       "  </tbody>\n",
       "</table>\n",
       "</div>"
      ],
      "text/plain": [
       "  Neighborhood  postalCode   SellPrice   SDPrice  CountOfOC   Longitude  \\\n",
       "0   Abbotsbury        2176   890090.91 -0.496483        0.0  150.885260   \n",
       "1   Abbotsford        2046  2490000.00  1.081061        0.0  151.133865   \n",
       "2  Agnes Banks        2753   745000.00 -0.639546        0.0  150.646053   \n",
       "3        Airds        2560   410461.54 -0.969408        0.0  150.768408   \n",
       "4   Alexandria        2015  1446750.00  0.052395        1.0  151.108248   \n",
       "\n",
       "    Latitude                           Borough  \n",
       "0 -33.872014                         Fairfield  \n",
       "1 -33.866044  Strathfield - Burwood - Ashfield  \n",
       "2 -33.604022                Richmond - Windsor  \n",
       "3 -34.194216                       Wollondilly  \n",
       "4 -33.711785                 Sydney Inner City  "
      ]
     },
     "execution_count": 35,
     "metadata": {},
     "output_type": "execute_result"
    }
   ],
   "source": [
    "sydney_suburb.head()# Main table contain all basic information"
   ]
  },
  {
   "cell_type": "code",
   "execution_count": 29,
   "metadata": {},
   "outputs": [],
   "source": [
    "neighborhoods= sydney_suburb[['Neighborhood','Longitude','Latitude','Borough']]#information for foursquare API"
   ]
  },
  {
   "cell_type": "code",
   "execution_count": 30,
   "metadata": {},
   "outputs": [
    {
     "data": {
      "text/html": [
       "<div>\n",
       "<style scoped>\n",
       "    .dataframe tbody tr th:only-of-type {\n",
       "        vertical-align: middle;\n",
       "    }\n",
       "\n",
       "    .dataframe tbody tr th {\n",
       "        vertical-align: top;\n",
       "    }\n",
       "\n",
       "    .dataframe thead th {\n",
       "        text-align: right;\n",
       "    }\n",
       "</style>\n",
       "<table border=\"1\" class=\"dataframe\">\n",
       "  <thead>\n",
       "    <tr style=\"text-align: right;\">\n",
       "      <th></th>\n",
       "      <th>Neighborhood</th>\n",
       "      <th>Longitude</th>\n",
       "      <th>Latitude</th>\n",
       "      <th>Borough</th>\n",
       "    </tr>\n",
       "  </thead>\n",
       "  <tbody>\n",
       "    <tr>\n",
       "      <th>0</th>\n",
       "      <td>Abbotsbury</td>\n",
       "      <td>150.885260</td>\n",
       "      <td>-33.872014</td>\n",
       "      <td>Fairfield</td>\n",
       "    </tr>\n",
       "    <tr>\n",
       "      <th>1</th>\n",
       "      <td>Abbotsford</td>\n",
       "      <td>151.133865</td>\n",
       "      <td>-33.866044</td>\n",
       "      <td>Strathfield - Burwood - Ashfield</td>\n",
       "    </tr>\n",
       "    <tr>\n",
       "      <th>2</th>\n",
       "      <td>Agnes Banks</td>\n",
       "      <td>150.646053</td>\n",
       "      <td>-33.604022</td>\n",
       "      <td>Richmond - Windsor</td>\n",
       "    </tr>\n",
       "    <tr>\n",
       "      <th>3</th>\n",
       "      <td>Airds</td>\n",
       "      <td>150.768408</td>\n",
       "      <td>-34.194216</td>\n",
       "      <td>Wollondilly</td>\n",
       "    </tr>\n",
       "    <tr>\n",
       "      <th>4</th>\n",
       "      <td>Alexandria</td>\n",
       "      <td>151.108248</td>\n",
       "      <td>-33.711785</td>\n",
       "      <td>Sydney Inner City</td>\n",
       "    </tr>\n",
       "  </tbody>\n",
       "</table>\n",
       "</div>"
      ],
      "text/plain": [
       "  Neighborhood   Longitude   Latitude                           Borough\n",
       "0   Abbotsbury  150.885260 -33.872014                         Fairfield\n",
       "1   Abbotsford  151.133865 -33.866044  Strathfield - Burwood - Ashfield\n",
       "2  Agnes Banks  150.646053 -33.604022                Richmond - Windsor\n",
       "3        Airds  150.768408 -34.194216                       Wollondilly\n",
       "4   Alexandria  151.108248 -33.711785                 Sydney Inner City"
      ]
     },
     "execution_count": 30,
     "metadata": {},
     "output_type": "execute_result"
    }
   ],
   "source": [
    "neighborhoods.head()"
   ]
  },
  {
   "cell_type": "markdown",
   "metadata": {},
   "source": [
    "Have a look how many boroughs and neighborhoods we get"
   ]
  },
  {
   "cell_type": "code",
   "execution_count": 31,
   "metadata": {
    "collapsed": false,
    "jupyter": {
     "outputs_hidden": false
    }
   },
   "outputs": [
    {
     "name": "stdout",
     "output_type": "stream",
     "text": [
      "The dataframe has 51 boroughs and 632 neighborhoods.\n"
     ]
    }
   ],
   "source": [
    "print('The dataframe has {} boroughs and {} neighborhoods.'.format(\n",
    "        len(neighborhoods['Borough'].unique()),\n",
    "        neighborhoods.shape[0]\n",
    "    )\n",
    ")"
   ]
  },
  {
   "cell_type": "markdown",
   "metadata": {},
   "source": [
    "**1.5 Use geopy library to get the latitude and longitude values of Sydney City.**"
   ]
  },
  {
   "cell_type": "code",
   "execution_count": 33,
   "metadata": {},
   "outputs": [
    {
     "name": "stdout",
     "output_type": "stream",
     "text": [
      "The geograpical coordinate of Sydney City are -33.8548157, 151.2164539.\n"
     ]
    }
   ],
   "source": [
    "address = 'Sydney NSW,Australia'\n",
    "\n",
    "geolocator = Nominatim(user_agent=\"ny_explorer\")\n",
    "location = geolocator.geocode(address)\n",
    "latitude = location.latitude\n",
    "longitude = location.longitude\n",
    "print('The geograpical coordinate of Sydney City are {}, {}.'.format(latitude, longitude))"
   ]
  },
  {
   "cell_type": "markdown",
   "metadata": {},
   "source": [
    "-----"
   ]
  }
 ],
 "metadata": {
  "kernelspec": {
   "display_name": "Python 3",
   "language": "python",
   "name": "python3"
  },
  "language_info": {
   "codemirror_mode": {
    "name": "ipython",
    "version": 3
   },
   "file_extension": ".py",
   "mimetype": "text/x-python",
   "name": "python",
   "nbconvert_exporter": "python",
   "pygments_lexer": "ipython3",
   "version": "3.7.6"
  },
  "widgets": {
   "state": {},
   "version": "1.1.2"
  }
 },
 "nbformat": 4,
 "nbformat_minor": 4
}
